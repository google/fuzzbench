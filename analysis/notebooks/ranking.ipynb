{
  "nbformat": 4,
  "nbformat_minor": 0,
  "metadata": {
    "colab": {
      "name": "Fuzzbench-2020-05-11-analysis.ipynb",
      "provenance": [],
      "collapsed_sections": []
    },
    "kernelspec": {
      "name": "python3",
      "display_name": "Python 3"
    }
  },
  "cells": [
    {
      "cell_type": "code",
      "metadata": {
        "id": "XU_tfiktT9Ms",
        "colab_type": "code",
        "colab": {}
      },
      "source": [
        "import numpy as np\n",
        "import pandas as pd\n",
        "import matplotlib.pyplot as plt\n",
        "import seaborn as sns\n",
        "sns.set(color_codes=True)"
      ],
      "execution_count": 0,
      "outputs": []
    },
    {
      "cell_type": "code",
      "metadata": {
        "id": "J2XHseWNUAWm",
        "colab_type": "code",
        "colab": {}
      },
      "source": [
        "!pip install scikit_posthocs orange3\n",
        "!git clone https://github.com/google/fuzzbench.git\n",
        "\n",
        "import sys\n",
        "sys.path.append(\"fuzzbench\")\n",
        "from analysis import data_utils"
      ],
      "execution_count": 0,
      "outputs": []
    },
    {
      "cell_type": "code",
      "metadata": {
        "id": "TTWgAJBcUC_k",
        "colab_type": "code",
        "colab": {},
        "cellView": "both"
      },
      "source": [
        "#@title Report data source\n",
        "report_directory = \"2020-05-11\"  #@param [\"2020-05-11\", \"2020-04-21\", \"202-04-14\", \"2020-05-20-aflplusplus-2\"] {allow-input: true}\n",
        "data_url = f\"https://www.fuzzbench.com/reports/{report_directory}/data.csv.gz\"\n",
        "df = pd.read_csv(data_url)"
      ],
      "execution_count": 0,
      "outputs": []
    },
    {
      "cell_type": "code",
      "metadata": {
        "id": "rKrC323bUQb3",
        "colab_type": "code",
        "colab": {}
      },
      "source": [
        "exp_snapshot_df = data_utils.get_experiment_snapshots(df)\n",
        "exp_pivot_df = data_utils.experiment_pivot_table(exp_snapshot_df, data_utils.benchmark_rank_by_median)"
      ],
      "execution_count": 0,
      "outputs": []
    },
    {
      "cell_type": "markdown",
      "metadata": {
        "id": "UY73exieBJMa",
        "colab_type": "text"
      },
      "source": [
        "# Median Edge Coverage "
      ]
    },
    {
      "cell_type": "code",
      "metadata": {
        "id": "l9DlehCMBM1W",
        "colab_type": "code",
        "colab": {
          "base_uri": "https://localhost:8080/",
          "height": 731
        },
        "outputId": "f5c6ce3f-ee70-465c-8eb5-cfff9c8720b0"
      },
      "source": [
        "exp_snapshot_df.pivot_table(index='benchmark', columns='fuzzer', values='edges_covered', aggfunc='median')"
      ],
      "execution_count": 16,
      "outputs": [
        {
          "output_type": "execute_result",
          "data": {
            "text/html": [
              "<div>\n",
              "<style scoped>\n",
              "    .dataframe tbody tr th:only-of-type {\n",
              "        vertical-align: middle;\n",
              "    }\n",
              "\n",
              "    .dataframe tbody tr th {\n",
              "        vertical-align: top;\n",
              "    }\n",
              "\n",
              "    .dataframe thead th {\n",
              "        text-align: right;\n",
              "    }\n",
              "</style>\n",
              "<table border=\"1\" class=\"dataframe\">\n",
              "  <thead>\n",
              "    <tr style=\"text-align: right;\">\n",
              "      <th>fuzzer</th>\n",
              "      <th>afl</th>\n",
              "      <th>aflfast</th>\n",
              "      <th>aflplusplus</th>\n",
              "      <th>aflsmart</th>\n",
              "      <th>eclipser</th>\n",
              "      <th>entropic</th>\n",
              "      <th>fairfuzz</th>\n",
              "      <th>fastcgs_lm</th>\n",
              "      <th>honggfuzz</th>\n",
              "      <th>lafintel</th>\n",
              "      <th>libfuzzer</th>\n",
              "      <th>mopt</th>\n",
              "    </tr>\n",
              "    <tr>\n",
              "      <th>benchmark</th>\n",
              "      <th></th>\n",
              "      <th></th>\n",
              "      <th></th>\n",
              "      <th></th>\n",
              "      <th></th>\n",
              "      <th></th>\n",
              "      <th></th>\n",
              "      <th></th>\n",
              "      <th></th>\n",
              "      <th></th>\n",
              "      <th></th>\n",
              "      <th></th>\n",
              "    </tr>\n",
              "  </thead>\n",
              "  <tbody>\n",
              "    <tr>\n",
              "      <th>bloaty_fuzz_target</th>\n",
              "      <td>5486</td>\n",
              "      <td>5177</td>\n",
              "      <td>5205</td>\n",
              "      <td>5426</td>\n",
              "      <td>4220</td>\n",
              "      <td>4807</td>\n",
              "      <td>5023</td>\n",
              "      <td>5667</td>\n",
              "      <td>5511</td>\n",
              "      <td>4971</td>\n",
              "      <td>4466</td>\n",
              "      <td>5648</td>\n",
              "    </tr>\n",
              "    <tr>\n",
              "      <th>curl_curl_fuzzer_http</th>\n",
              "      <td>5421</td>\n",
              "      <td>5320</td>\n",
              "      <td>5370</td>\n",
              "      <td>5430</td>\n",
              "      <td>4424</td>\n",
              "      <td>5001</td>\n",
              "      <td>4846</td>\n",
              "      <td>5405</td>\n",
              "      <td>5409</td>\n",
              "      <td>5320</td>\n",
              "      <td>4777</td>\n",
              "      <td>5386</td>\n",
              "    </tr>\n",
              "    <tr>\n",
              "      <th>freetype2-2017</th>\n",
              "      <td>5377</td>\n",
              "      <td>5225</td>\n",
              "      <td>5148</td>\n",
              "      <td>5303</td>\n",
              "      <td>4510</td>\n",
              "      <td>5591</td>\n",
              "      <td>5348</td>\n",
              "      <td>5335</td>\n",
              "      <td>7167</td>\n",
              "      <td>5138</td>\n",
              "      <td>4395</td>\n",
              "      <td>5372</td>\n",
              "    </tr>\n",
              "    <tr>\n",
              "      <th>harfbuzz-1.3.2</th>\n",
              "      <td>4282</td>\n",
              "      <td>4182</td>\n",
              "      <td>4111</td>\n",
              "      <td>4262</td>\n",
              "      <td>3383</td>\n",
              "      <td>4235</td>\n",
              "      <td>3621</td>\n",
              "      <td>4268</td>\n",
              "      <td>4368</td>\n",
              "      <td>4099</td>\n",
              "      <td>4107</td>\n",
              "      <td>4254</td>\n",
              "    </tr>\n",
              "    <tr>\n",
              "      <th>jsoncpp_jsoncpp_fuzzer</th>\n",
              "      <td>634</td>\n",
              "      <td>634</td>\n",
              "      <td>632</td>\n",
              "      <td>634</td>\n",
              "      <td>588</td>\n",
              "      <td>635</td>\n",
              "      <td>634</td>\n",
              "      <td>634</td>\n",
              "      <td>635</td>\n",
              "      <td>630</td>\n",
              "      <td>635</td>\n",
              "      <td>634</td>\n",
              "    </tr>\n",
              "    <tr>\n",
              "      <th>lcms-2017-03-21</th>\n",
              "      <td>1109</td>\n",
              "      <td>910</td>\n",
              "      <td>1131</td>\n",
              "      <td>1167</td>\n",
              "      <td>492</td>\n",
              "      <td>1309</td>\n",
              "      <td>1159</td>\n",
              "      <td>851</td>\n",
              "      <td>1008</td>\n",
              "      <td>1119</td>\n",
              "      <td>1211</td>\n",
              "      <td>896</td>\n",
              "    </tr>\n",
              "    <tr>\n",
              "      <th>libjpeg-turbo-07-2017</th>\n",
              "      <td>1444</td>\n",
              "      <td>1437</td>\n",
              "      <td>1436</td>\n",
              "      <td>1442</td>\n",
              "      <td>1048</td>\n",
              "      <td>1453</td>\n",
              "      <td>1109</td>\n",
              "      <td>1438</td>\n",
              "      <td>1434</td>\n",
              "      <td>1419</td>\n",
              "      <td>1365</td>\n",
              "      <td>1439</td>\n",
              "    </tr>\n",
              "    <tr>\n",
              "      <th>libpcap_fuzz_both</th>\n",
              "      <td>21</td>\n",
              "      <td>21</td>\n",
              "      <td>21</td>\n",
              "      <td>18</td>\n",
              "      <td>880</td>\n",
              "      <td>1736</td>\n",
              "      <td>21</td>\n",
              "      <td>19</td>\n",
              "      <td>1953</td>\n",
              "      <td>1721</td>\n",
              "      <td>1592</td>\n",
              "      <td>21</td>\n",
              "    </tr>\n",
              "    <tr>\n",
              "      <th>libpng-1.2.56</th>\n",
              "      <td>631</td>\n",
              "      <td>629</td>\n",
              "      <td>630</td>\n",
              "      <td>674</td>\n",
              "      <td>512</td>\n",
              "      <td>647</td>\n",
              "      <td>633</td>\n",
              "      <td>525</td>\n",
              "      <td>677</td>\n",
              "      <td>644</td>\n",
              "      <td>630</td>\n",
              "      <td>525</td>\n",
              "    </tr>\n",
              "    <tr>\n",
              "      <th>libxml2-v2.9.2</th>\n",
              "      <td>4665</td>\n",
              "      <td>4381</td>\n",
              "      <td>4169</td>\n",
              "      <td>4673</td>\n",
              "      <td>1680</td>\n",
              "      <td>4522</td>\n",
              "      <td>3445</td>\n",
              "      <td>3839</td>\n",
              "      <td>4564</td>\n",
              "      <td>4288</td>\n",
              "      <td>4287</td>\n",
              "      <td>3602</td>\n",
              "    </tr>\n",
              "    <tr>\n",
              "      <th>mbedtls_fuzz_dtlsclient</th>\n",
              "      <td>1674</td>\n",
              "      <td>1601</td>\n",
              "      <td>1657</td>\n",
              "      <td>1689</td>\n",
              "      <td>1413</td>\n",
              "      <td>1632</td>\n",
              "      <td>1663</td>\n",
              "      <td>1687</td>\n",
              "      <td>1680</td>\n",
              "      <td>1593</td>\n",
              "      <td>1605</td>\n",
              "      <td>1673</td>\n",
              "    </tr>\n",
              "    <tr>\n",
              "      <th>openssl_x509</th>\n",
              "      <td>4076</td>\n",
              "      <td>4073</td>\n",
              "      <td>4077</td>\n",
              "      <td>4076</td>\n",
              "      <td>4056</td>\n",
              "      <td>4077</td>\n",
              "      <td>4054</td>\n",
              "      <td>4077</td>\n",
              "      <td>4070</td>\n",
              "      <td>4070</td>\n",
              "      <td>4069</td>\n",
              "      <td>4075</td>\n",
              "    </tr>\n",
              "    <tr>\n",
              "      <th>openthread-2019-12-23</th>\n",
              "      <td>1727</td>\n",
              "      <td>1690</td>\n",
              "      <td>1710</td>\n",
              "      <td>1734</td>\n",
              "      <td>1672</td>\n",
              "      <td>1539</td>\n",
              "      <td>1139</td>\n",
              "      <td>1715</td>\n",
              "      <td>1729</td>\n",
              "      <td>1524</td>\n",
              "      <td>1536</td>\n",
              "      <td>1713</td>\n",
              "    </tr>\n",
              "    <tr>\n",
              "      <th>php_php-fuzz-parser</th>\n",
              "      <td>11209</td>\n",
              "      <td>11118</td>\n",
              "      <td>11143</td>\n",
              "      <td>11229</td>\n",
              "      <td>9888</td>\n",
              "      <td>11069</td>\n",
              "      <td>10961</td>\n",
              "      <td>11332</td>\n",
              "      <td>11495</td>\n",
              "      <td>10979</td>\n",
              "      <td>10231</td>\n",
              "      <td>11207</td>\n",
              "    </tr>\n",
              "    <tr>\n",
              "      <th>proj4-2017-08-14</th>\n",
              "      <td>2153</td>\n",
              "      <td>2036</td>\n",
              "      <td>2149</td>\n",
              "      <td>2149</td>\n",
              "      <td>177</td>\n",
              "      <td>2355</td>\n",
              "      <td>2048</td>\n",
              "      <td>1964</td>\n",
              "      <td>3279</td>\n",
              "      <td>2102</td>\n",
              "      <td>2255</td>\n",
              "      <td>1997</td>\n",
              "    </tr>\n",
              "    <tr>\n",
              "      <th>re2-2014-12-09</th>\n",
              "      <td>2272</td>\n",
              "      <td>2269</td>\n",
              "      <td>2262</td>\n",
              "      <td>2272</td>\n",
              "      <td>1956</td>\n",
              "      <td>2296</td>\n",
              "      <td>2268</td>\n",
              "      <td>2249</td>\n",
              "      <td>2296</td>\n",
              "      <td>2257</td>\n",
              "      <td>2303</td>\n",
              "      <td>2252</td>\n",
              "    </tr>\n",
              "    <tr>\n",
              "      <th>sqlite3_ossfuzz</th>\n",
              "      <td>17246</td>\n",
              "      <td>16656</td>\n",
              "      <td>16652</td>\n",
              "      <td>17297</td>\n",
              "      <td>5620</td>\n",
              "      <td>11199</td>\n",
              "      <td>8805</td>\n",
              "      <td>17714</td>\n",
              "      <td>12617</td>\n",
              "      <td>11898</td>\n",
              "      <td>8629</td>\n",
              "      <td>17248</td>\n",
              "    </tr>\n",
              "    <tr>\n",
              "      <th>systemd_fuzz-link-parser</th>\n",
              "      <td>990</td>\n",
              "      <td>986</td>\n",
              "      <td>982</td>\n",
              "      <td>989</td>\n",
              "      <td>936</td>\n",
              "      <td>982</td>\n",
              "      <td>904</td>\n",
              "      <td>989</td>\n",
              "      <td>1002</td>\n",
              "      <td>981</td>\n",
              "      <td>968</td>\n",
              "      <td>989</td>\n",
              "    </tr>\n",
              "    <tr>\n",
              "      <th>vorbis-2017-12-11</th>\n",
              "      <td>1010</td>\n",
              "      <td>999</td>\n",
              "      <td>988</td>\n",
              "      <td>1014</td>\n",
              "      <td>892</td>\n",
              "      <td>1007</td>\n",
              "      <td>1001</td>\n",
              "      <td>1014</td>\n",
              "      <td>998</td>\n",
              "      <td>979</td>\n",
              "      <td>790</td>\n",
              "      <td>1014</td>\n",
              "    </tr>\n",
              "    <tr>\n",
              "      <th>woff2-2016-05-06</th>\n",
              "      <td>1046</td>\n",
              "      <td>968</td>\n",
              "      <td>1046</td>\n",
              "      <td>1044</td>\n",
              "      <td>835</td>\n",
              "      <td>1046</td>\n",
              "      <td>950</td>\n",
              "      <td>1034</td>\n",
              "      <td>1118</td>\n",
              "      <td>1022</td>\n",
              "      <td>1007</td>\n",
              "      <td>1077</td>\n",
              "    </tr>\n",
              "    <tr>\n",
              "      <th>zlib_zlib_uncompress_fuzzer</th>\n",
              "      <td>330</td>\n",
              "      <td>326</td>\n",
              "      <td>329</td>\n",
              "      <td>330</td>\n",
              "      <td>315</td>\n",
              "      <td>338</td>\n",
              "      <td>331</td>\n",
              "      <td>329</td>\n",
              "      <td>334</td>\n",
              "      <td>329</td>\n",
              "      <td>335</td>\n",
              "      <td>329</td>\n",
              "    </tr>\n",
              "  </tbody>\n",
              "</table>\n",
              "</div>"
            ],
            "text/plain": [
              "fuzzer                         afl  aflfast  ...  libfuzzer   mopt\n",
              "benchmark                                    ...                  \n",
              "bloaty_fuzz_target            5486     5177  ...       4466   5648\n",
              "curl_curl_fuzzer_http         5421     5320  ...       4777   5386\n",
              "freetype2-2017                5377     5225  ...       4395   5372\n",
              "harfbuzz-1.3.2                4282     4182  ...       4107   4254\n",
              "jsoncpp_jsoncpp_fuzzer         634      634  ...        635    634\n",
              "lcms-2017-03-21               1109      910  ...       1211    896\n",
              "libjpeg-turbo-07-2017         1444     1437  ...       1365   1439\n",
              "libpcap_fuzz_both               21       21  ...       1592     21\n",
              "libpng-1.2.56                  631      629  ...        630    525\n",
              "libxml2-v2.9.2                4665     4381  ...       4287   3602\n",
              "mbedtls_fuzz_dtlsclient       1674     1601  ...       1605   1673\n",
              "openssl_x509                  4076     4073  ...       4069   4075\n",
              "openthread-2019-12-23         1727     1690  ...       1536   1713\n",
              "php_php-fuzz-parser          11209    11118  ...      10231  11207\n",
              "proj4-2017-08-14              2153     2036  ...       2255   1997\n",
              "re2-2014-12-09                2272     2269  ...       2303   2252\n",
              "sqlite3_ossfuzz              17246    16656  ...       8629  17248\n",
              "systemd_fuzz-link-parser       990      986  ...        968    989\n",
              "vorbis-2017-12-11             1010      999  ...        790   1014\n",
              "woff2-2016-05-06              1046      968  ...       1007   1077\n",
              "zlib_zlib_uncompress_fuzzer    330      326  ...        335    329\n",
              "\n",
              "[21 rows x 12 columns]"
            ]
          },
          "metadata": {
            "tags": []
          },
          "execution_count": 16
        }
      ]
    },
    {
      "cell_type": "markdown",
      "metadata": {
        "id": "-vDxAu6rAX36",
        "colab_type": "text"
      },
      "source": [
        "# Current Fuzzbench default report ranking\n",
        "- use the mean edges covered per benchmark\n",
        "- rank each fuzzer by their mean ranking for all benchmarks"
      ]
    },
    {
      "cell_type": "code",
      "metadata": {
        "id": "Q6tBoeQIUc-V",
        "colab_type": "code",
        "colab": {
          "base_uri": "https://localhost:8080/",
          "height": 255
        },
        "outputId": "e488e222-dc84-41d4-d320-4e2691912a0e"
      },
      "source": [
        "default_report_rank = data_utils.experiment_level_ranking(\n",
        "    exp_snapshot_df, \n",
        "    data_utils.benchmark_rank_by_mean, \n",
        "    data_utils.experiment_rank_by_average_rank)\n",
        "default_report_rank"
      ],
      "execution_count": 5,
      "outputs": [
        {
          "output_type": "execute_result",
          "data": {
            "text/plain": [
              "fuzzer\n",
              "honggfuzz       3.309524\n",
              "afl             3.952381\n",
              "aflsmart        4.119048\n",
              "entropic        4.761905\n",
              "fastcgs_lm      6.023810\n",
              "mopt            6.047619\n",
              "aflplusplus     6.833333\n",
              "aflfast         7.452381\n",
              "lafintel        7.904762\n",
              "libfuzzer       7.928571\n",
              "fairfuzz        8.476190\n",
              "eclipser       11.190476\n",
              "Name: average rank, dtype: float64"
            ]
          },
          "metadata": {
            "tags": []
          },
          "execution_count": 5
        }
      ]
    },
    {
      "cell_type": "markdown",
      "metadata": {
        "id": "IJvhkGUQASca",
        "colab_type": "text"
      },
      "source": [
        "## Other ranking measures\n",
        "`exp_pivot_df` is the result of using the median coverage as a benchmark ranking algorithm\n",
        "- Number of firsts (best median coverage for a benchmark)\n",
        "- Percent coverage (median coverage / max coverage per benchmark)\n",
        "- Average rank (simple mean of benchmark ranking)\n",
        "- Statistical tests wins (only count cases where the coverage improvement was statistically significant (p_value < 0.05))"
      ]
    },
    {
      "cell_type": "code",
      "metadata": {
        "id": "3i4q40FKUgc8",
        "colab_type": "code",
        "colab": {
          "base_uri": "https://localhost:8080/",
          "height": 255
        },
        "outputId": "ae90369a-47fe-4e83-9500-557f0d59e412"
      },
      "source": [
        "firsts_ranked = data_utils.experiment_rank_by_num_firsts(exp_pivot_df)\n",
        "firsts_ranked"
      ],
      "execution_count": 6,
      "outputs": [
        {
          "output_type": "execute_result",
          "data": {
            "text/plain": [
              "fuzzer\n",
              "honggfuzz      8.0\n",
              "aflsmart       4.0\n",
              "entropic       3.0\n",
              "fastcgs_lm     2.0\n",
              "libfuzzer      1.0\n",
              "mopt           0.0\n",
              "lafintel       0.0\n",
              "fairfuzz       0.0\n",
              "eclipser       0.0\n",
              "aflplusplus    0.0\n",
              "aflfast        0.0\n",
              "afl            0.0\n",
              "Name: number of wins, dtype: float64"
            ]
          },
          "metadata": {
            "tags": []
          },
          "execution_count": 6
        }
      ]
    },
    {
      "cell_type": "code",
      "metadata": {
        "id": "o8PIVfiXUjLl",
        "colab_type": "code",
        "colab": {
          "base_uri": "https://localhost:8080/",
          "height": 255
        },
        "outputId": "686b3b1b-e0c5-40f8-a8a7-733619a75c57"
      },
      "source": [
        "percent_coverage = data_utils.experiment_rank_by_average_normalized_score(exp_pivot_df)\n",
        "percent_coverage"
      ],
      "execution_count": 7,
      "outputs": [
        {
          "output_type": "execute_result",
          "data": {
            "text/plain": [
              "fuzzer\n",
              "honggfuzz      97.018742\n",
              "entropic       92.400031\n",
              "aflsmart       90.725944\n",
              "lafintel       90.410083\n",
              "afl            90.248494\n",
              "aflplusplus    88.693044\n",
              "fastcgs_lm     87.601417\n",
              "mopt           87.521381\n",
              "aflfast        87.497333\n",
              "libfuzzer      87.071347\n",
              "fairfuzz       81.420302\n",
              "eclipser       71.055928\n",
              "Name: average normalized score, dtype: float64"
            ]
          },
          "metadata": {
            "tags": []
          },
          "execution_count": 7
        }
      ]
    },
    {
      "cell_type": "code",
      "metadata": {
        "id": "UopoysyHUmsr",
        "colab_type": "code",
        "colab": {
          "base_uri": "https://localhost:8080/",
          "height": 255
        },
        "outputId": "47ba79e3-2a6b-47a3-a933-fe56fd8b0ba7"
      },
      "source": [
        "average_rank = data_utils.experiment_rank_by_average_rank(exp_pivot_df)\n",
        "average_rank"
      ],
      "execution_count": 8,
      "outputs": [
        {
          "output_type": "execute_result",
          "data": {
            "text/plain": [
              "fuzzer\n",
              "honggfuzz       3.285714\n",
              "aflsmart        3.976190\n",
              "afl             4.095238\n",
              "entropic        4.666667\n",
              "fastcgs_lm      5.785714\n",
              "mopt            5.976190\n",
              "aflplusplus     6.857143\n",
              "aflfast         7.523810\n",
              "libfuzzer       7.785714\n",
              "lafintel        8.309524\n",
              "fairfuzz        8.452381\n",
              "eclipser       11.285714\n",
              "Name: average rank, dtype: float64"
            ]
          },
          "metadata": {
            "tags": []
          },
          "execution_count": 8
        }
      ]
    },
    {
      "cell_type": "code",
      "metadata": {
        "id": "4BRwl9V2Up9M",
        "colab_type": "code",
        "colab": {
          "base_uri": "https://localhost:8080/",
          "height": 255
        },
        "outputId": "cc9eb2fe-dc38-4d2c-ea53-dd7b0d3c29cb"
      },
      "source": [
        "stats_wins = data_utils.experiment_level_ranking(\n",
        "    exp_snapshot_df,\n",
        "    data_utils.benchmark_rank_by_stat_test_wins,\n",
        "    data_utils.experiment_rank_by_average_rank\n",
        ")\n",
        "stats_wins"
      ],
      "execution_count": 9,
      "outputs": [
        {
          "output_type": "execute_result",
          "data": {
            "text/plain": [
              "fuzzer\n",
              "honggfuzz       3.166667\n",
              "afl             3.904762\n",
              "aflsmart        4.357143\n",
              "entropic        4.761905\n",
              "fastcgs_lm      5.738095\n",
              "mopt            5.904762\n",
              "aflplusplus     6.904762\n",
              "aflfast         7.642857\n",
              "libfuzzer       7.738095\n",
              "lafintel        8.166667\n",
              "fairfuzz        8.452381\n",
              "eclipser       11.261905\n",
              "Name: average rank, dtype: float64"
            ]
          },
          "metadata": {
            "tags": []
          },
          "execution_count": 9
        }
      ]
    },
    {
      "cell_type": "markdown",
      "metadata": {
        "id": "-uWcg_CAAiA_",
        "colab_type": "text"
      },
      "source": [
        "# Ranking comparison chart"
      ]
    },
    {
      "cell_type": "code",
      "metadata": {
        "id": "dpIJvgZZUtQ3",
        "colab_type": "code",
        "colab": {
          "base_uri": "https://localhost:8080/",
          "height": 481
        },
        "outputId": "2d782e27-e89f-4a1c-b331-dcf9a08fe61e"
      },
      "source": [
        "rankings = {\n",
        "    \"Default Ranking (mean coverage)\": default_report_rank,\n",
        "    \"Stats Wins (p_value wins)\": stats_wins,\n",
        "    \"% Coverage Ranking\": percent_coverage,\n",
        "    \"Average Rank (median coverage)\": average_rank\n",
        "}\n",
        "\n",
        "fig, axes = plt.subplots(1,len(rankings), figsize=(30,7))\n",
        "for i, (title, ranking_series) in enumerate(rankings.items()):\n",
        "  ax = sns.barplot(x=ranking_series.values, y=ranking_series.index, ax=axes[i])\n",
        "  ax.set_title(title)\n",
        "  ax.set_ylabel(\"\")\n",
        "fig.suptitle(\"Comparison of Ranking Methods\")\n",
        "fig.show()"
      ],
      "execution_count": 17,
      "outputs": [
        {
          "output_type": "display_data",
          "data": {
            "image/png": "[encoded data removed]",
            "text/plain": [
              "<Figure size 2160x504 with 4 Axes>"
            ]
          },
          "metadata": {
            "tags": [],
            "needs_background": "light"
          }
        }
      ]
    },
    {
      "cell_type": "code",
      "metadata": {
        "id": "2tZnK7qr5USJ",
        "colab_type": "code",
        "colab": {}
      },
      "source": [
        ""
      ],
      "execution_count": 0,
      "outputs": []
    }
  ]
}